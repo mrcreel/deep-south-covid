{
 "cells": [
  {
   "cell_type": "code",
   "execution_count": 21,
   "metadata": {},
   "outputs": [],
   "source": [
    "import pandas as pd\n",
    "import csv"
   ]
  },
  {
   "cell_type": "code",
   "execution_count": 22,
   "metadata": {},
   "outputs": [
    {
     "output_type": "stream",
     "name": "stdout",
     "text": "['Alabama', 'Georgia', 'Louisiana', 'Mississippi', 'South Carolina']\n"
    }
   ],
   "source": [
    "states = ['Alabama', 'Georgia', 'Louisiana', 'Mississippi', 'South Carolina']\n",
    "# states = [['Alabama', 'AL'], ['Georgia', 'GA'], ['Louisiana', 'LA'], ['Mississippi', 'MS'], ['South Carolina', 'SC']]\n",
    "# states_2 = ['AL', 'GA', 'LA', 'MS', 'SC']\n",
    "\n",
    "print(states)"
   ]
  },
  {
   "cell_type": "code",
   "execution_count": 23,
   "metadata": {},
   "outputs": [],
   "source": [
    "url_confirmed = 'https://raw.githubusercontent.com/CSSEGISandData/COVID-19/master/csse_covid_19_data/csse_covid_19_time_series/time_series_covid19_confirmed_US.csv'\n",
    "# url_deaths = 'https://raw.githubusercontent.com/CSSEGISandData/COVID-19/master/csse_covid_19_data/csse_covid_19_time_series/time_series_covid19_deaths_US.csv'\n",
    "# url_tests = 'https://covidtracking.com/api/v1/states/daily.csv'"
   ]
  },
  {
   "cell_type": "code",
   "execution_count": 24,
   "metadata": {},
   "outputs": [],
   "source": [
    "confirmed = pd.read_csv(url_confirmed)\n",
    "# deaths = pd.read_csv(url_deaths)\n",
    "# tests = pd.read_csv(url_tests)"
   ]
  },
  {
   "cell_type": "code",
   "execution_count": 25,
   "metadata": {},
   "outputs": [
    {
     "output_type": "execute_result",
     "data": {
      "text/plain": "   UID iso2 iso3  code3  FIPS Admin2            Province_State Country_Region  \\\n0   16   AS  ASM     16  60.0    NaN            American Samoa             US   \n1  316   GU  GUM    316  66.0    NaN                      Guam             US   \n2  580   MP  MNP    580  69.0    NaN  Northern Mariana Islands             US   \n3  630   PR  PRI    630  72.0    NaN               Puerto Rico             US   \n4  850   VI  VIR    850  78.0    NaN            Virgin Islands             US   \n\n       Lat     Long_  ... 4/11/20  4/12/20  4/13/20  4/14/20  4/15/20  \\\n0 -14.2710 -170.1320  ...       0        0        0        0        0   \n1  13.4443  144.7937  ...     133      133      133      133      135   \n2  15.0979  145.6739  ...      11       11       11       11       13   \n3  18.2208  -66.5901  ...     788      897      903      923      974   \n4  18.3358  -64.8963  ...      51       51       51       51       51   \n\n   4/16/20  4/17/20  4/18/20  4/19/20  4/20/20  \n0        0        0        0        0        0  \n1      135      136      136      136      136  \n2       13       13       14       14       14  \n3     1043     1068     1118     1213     1252  \n4       51       51       53       53       53  \n\n[5 rows x 101 columns]",
      "text/html": "<div>\n<style scoped>\n    .dataframe tbody tr th:only-of-type {\n        vertical-align: middle;\n    }\n\n    .dataframe tbody tr th {\n        vertical-align: top;\n    }\n\n    .dataframe thead th {\n        text-align: right;\n    }\n</style>\n<table border=\"1\" class=\"dataframe\">\n  <thead>\n    <tr style=\"text-align: right;\">\n      <th></th>\n      <th>UID</th>\n      <th>iso2</th>\n      <th>iso3</th>\n      <th>code3</th>\n      <th>FIPS</th>\n      <th>Admin2</th>\n      <th>Province_State</th>\n      <th>Country_Region</th>\n      <th>Lat</th>\n      <th>Long_</th>\n      <th>...</th>\n      <th>4/11/20</th>\n      <th>4/12/20</th>\n      <th>4/13/20</th>\n      <th>4/14/20</th>\n      <th>4/15/20</th>\n      <th>4/16/20</th>\n      <th>4/17/20</th>\n      <th>4/18/20</th>\n      <th>4/19/20</th>\n      <th>4/20/20</th>\n    </tr>\n  </thead>\n  <tbody>\n    <tr>\n      <th>0</th>\n      <td>16</td>\n      <td>AS</td>\n      <td>ASM</td>\n      <td>16</td>\n      <td>60.0</td>\n      <td>NaN</td>\n      <td>American Samoa</td>\n      <td>US</td>\n      <td>-14.2710</td>\n      <td>-170.1320</td>\n      <td>...</td>\n      <td>0</td>\n      <td>0</td>\n      <td>0</td>\n      <td>0</td>\n      <td>0</td>\n      <td>0</td>\n      <td>0</td>\n      <td>0</td>\n      <td>0</td>\n      <td>0</td>\n    </tr>\n    <tr>\n      <th>1</th>\n      <td>316</td>\n      <td>GU</td>\n      <td>GUM</td>\n      <td>316</td>\n      <td>66.0</td>\n      <td>NaN</td>\n      <td>Guam</td>\n      <td>US</td>\n      <td>13.4443</td>\n      <td>144.7937</td>\n      <td>...</td>\n      <td>133</td>\n      <td>133</td>\n      <td>133</td>\n      <td>133</td>\n      <td>135</td>\n      <td>135</td>\n      <td>136</td>\n      <td>136</td>\n      <td>136</td>\n      <td>136</td>\n    </tr>\n    <tr>\n      <th>2</th>\n      <td>580</td>\n      <td>MP</td>\n      <td>MNP</td>\n      <td>580</td>\n      <td>69.0</td>\n      <td>NaN</td>\n      <td>Northern Mariana Islands</td>\n      <td>US</td>\n      <td>15.0979</td>\n      <td>145.6739</td>\n      <td>...</td>\n      <td>11</td>\n      <td>11</td>\n      <td>11</td>\n      <td>11</td>\n      <td>13</td>\n      <td>13</td>\n      <td>13</td>\n      <td>14</td>\n      <td>14</td>\n      <td>14</td>\n    </tr>\n    <tr>\n      <th>3</th>\n      <td>630</td>\n      <td>PR</td>\n      <td>PRI</td>\n      <td>630</td>\n      <td>72.0</td>\n      <td>NaN</td>\n      <td>Puerto Rico</td>\n      <td>US</td>\n      <td>18.2208</td>\n      <td>-66.5901</td>\n      <td>...</td>\n      <td>788</td>\n      <td>897</td>\n      <td>903</td>\n      <td>923</td>\n      <td>974</td>\n      <td>1043</td>\n      <td>1068</td>\n      <td>1118</td>\n      <td>1213</td>\n      <td>1252</td>\n    </tr>\n    <tr>\n      <th>4</th>\n      <td>850</td>\n      <td>VI</td>\n      <td>VIR</td>\n      <td>850</td>\n      <td>78.0</td>\n      <td>NaN</td>\n      <td>Virgin Islands</td>\n      <td>US</td>\n      <td>18.3358</td>\n      <td>-64.8963</td>\n      <td>...</td>\n      <td>51</td>\n      <td>51</td>\n      <td>51</td>\n      <td>51</td>\n      <td>51</td>\n      <td>51</td>\n      <td>51</td>\n      <td>53</td>\n      <td>53</td>\n      <td>53</td>\n    </tr>\n  </tbody>\n</table>\n<p>5 rows × 101 columns</p>\n</div>"
     },
     "metadata": {},
     "execution_count": 25
    }
   ],
   "source": [
    "confirmed.head()"
   ]
  },
  {
   "cell_type": "code",
   "execution_count": 26,
   "metadata": {},
   "outputs": [],
   "source": [
    "confirmed = confirmed.drop(['UID', 'iso2', 'iso3', 'code3', 'FIPS', 'Country_Region', 'Lat', 'Long_', 'Combined_Key'], axis = 1)\n",
    "# deaths = deaths.drop(['UID', 'iso2', 'iso3', 'code3', 'FIPS', 'Country_Region', 'Lat', 'Long_', 'Combined_Key', 'Population'], axis = 1)\n",
    "# tests = tests.drop(['positive', 'negative', 'pending', 'hospitalizedCurrently', 'hospitalizedCumulative', 'inIcuCurrently', 'inIcuCumulative', 'onVentilatorCurrently', 'onVentilatorCumulative', 'recovered', 'hash', 'dateChecked', 'death', 'hospitalized', 'totalTestResults', 'posNeg', 'fips', 'deathIncrease', 'hospitalizedIncrease', 'negativeIncrease', 'positiveIncrease', 'totalTestResultsIncrease'], axis = 1)"
   ]
  },
  {
   "cell_type": "code",
   "execution_count": 27,
   "metadata": {},
   "outputs": [],
   "source": [
    "confirmed.rename(columns = {'Admin2':'County', 'Province_State':'State'}, inplace = True)\n",
    "# # deaths.rename(columns = {'Admin2':'County', 'Province_State':'State'}, inplace = True)\n",
    "# # tests.rename(columns = {'date':'Date', 'state':'State', 'total':'Tested'}, inplace = True)"
   ]
  },
  {
   "cell_type": "code",
   "execution_count": 28,
   "metadata": {},
   "outputs": [],
   "source": [
    "confirmed = confirmed.loc[confirmed['State'].isin(states)].reset_index()\n",
    "# deaths = deaths.loc[deaths['State'].isin(states)].reset_index()\n",
    "# tests = tests.loc[tests['State'].isin(states_2)].reset_index()"
   ]
  },
  {
   "cell_type": "code",
   "execution_count": 29,
   "metadata": {},
   "outputs": [
    {
     "output_type": "execute_result",
     "data": {
      "text/plain": "     index      County           State  1/22/20  1/23/20  1/24/20  1/25/20  \\\n0        5     Autauga         Alabama        0        0        0        0   \n1        6     Baldwin         Alabama        0        0        0        0   \n2        7     Barbour         Alabama        0        0        0        0   \n3        8        Bibb         Alabama        0        0        0        0   \n4        9      Blount         Alabama        0        0        0        0   \n..     ...         ...             ...      ...      ...      ...      ...   \n423   3201  Unassigned         Alabama        0        0        0        0   \n424   3211  Unassigned         Georgia        0        0        0        0   \n425   3219  Unassigned       Louisiana        0        0        0        0   \n426   3225  Unassigned     Mississippi        0        0        0        0   \n427   3241  Unassigned  South Carolina        0        0        0        0   \n\n     1/26/20  1/27/20  1/28/20  ...  4/11/20  4/12/20  4/13/20  4/14/20  \\\n0          0        0        0  ...       19       19       19       23   \n1          0        0        0  ...       66       71       72       87   \n2          0        0        0  ...        9       10       10       11   \n3          0        0        0  ...       13       16       17       17   \n4          0        0        0  ...       12       13       14       16   \n..       ...      ...      ...  ...      ...      ...      ...      ...   \n423        0        0        0  ...        0        0        0        0   \n424        0        0        0  ...     1397     1218     1219      287   \n425        0        0        0  ...       54       54       56       56   \n426        0        0        0  ...        0        0        0        0   \n427        0        0        0  ...        0        0        0        0   \n\n     4/15/20  4/16/20  4/17/20  4/18/20  4/19/20  4/20/20  \n0         24       26       26       25       26       28  \n1         91      101      103      109      112      117  \n2         12       14       15       18       20       22  \n3         18       22       24       26       28       32  \n4         17       18       20       20       21       22  \n..       ...      ...      ...      ...      ...      ...  \n423        0        0        0        0        0        0  \n424      263      144      255      220      254      296  \n425       56       56       56       57       58       59  \n426        0        0        0        0        0        0  \n427        0        0        0        0        0        0  \n\n[428 rows x 93 columns]",
      "text/html": "<div>\n<style scoped>\n    .dataframe tbody tr th:only-of-type {\n        vertical-align: middle;\n    }\n\n    .dataframe tbody tr th {\n        vertical-align: top;\n    }\n\n    .dataframe thead th {\n        text-align: right;\n    }\n</style>\n<table border=\"1\" class=\"dataframe\">\n  <thead>\n    <tr style=\"text-align: right;\">\n      <th></th>\n      <th>index</th>\n      <th>County</th>\n      <th>State</th>\n      <th>1/22/20</th>\n      <th>1/23/20</th>\n      <th>1/24/20</th>\n      <th>1/25/20</th>\n      <th>1/26/20</th>\n      <th>1/27/20</th>\n      <th>1/28/20</th>\n      <th>...</th>\n      <th>4/11/20</th>\n      <th>4/12/20</th>\n      <th>4/13/20</th>\n      <th>4/14/20</th>\n      <th>4/15/20</th>\n      <th>4/16/20</th>\n      <th>4/17/20</th>\n      <th>4/18/20</th>\n      <th>4/19/20</th>\n      <th>4/20/20</th>\n    </tr>\n  </thead>\n  <tbody>\n    <tr>\n      <th>0</th>\n      <td>5</td>\n      <td>Autauga</td>\n      <td>Alabama</td>\n      <td>0</td>\n      <td>0</td>\n      <td>0</td>\n      <td>0</td>\n      <td>0</td>\n      <td>0</td>\n      <td>0</td>\n      <td>...</td>\n      <td>19</td>\n      <td>19</td>\n      <td>19</td>\n      <td>23</td>\n      <td>24</td>\n      <td>26</td>\n      <td>26</td>\n      <td>25</td>\n      <td>26</td>\n      <td>28</td>\n    </tr>\n    <tr>\n      <th>1</th>\n      <td>6</td>\n      <td>Baldwin</td>\n      <td>Alabama</td>\n      <td>0</td>\n      <td>0</td>\n      <td>0</td>\n      <td>0</td>\n      <td>0</td>\n      <td>0</td>\n      <td>0</td>\n      <td>...</td>\n      <td>66</td>\n      <td>71</td>\n      <td>72</td>\n      <td>87</td>\n      <td>91</td>\n      <td>101</td>\n      <td>103</td>\n      <td>109</td>\n      <td>112</td>\n      <td>117</td>\n    </tr>\n    <tr>\n      <th>2</th>\n      <td>7</td>\n      <td>Barbour</td>\n      <td>Alabama</td>\n      <td>0</td>\n      <td>0</td>\n      <td>0</td>\n      <td>0</td>\n      <td>0</td>\n      <td>0</td>\n      <td>0</td>\n      <td>...</td>\n      <td>9</td>\n      <td>10</td>\n      <td>10</td>\n      <td>11</td>\n      <td>12</td>\n      <td>14</td>\n      <td>15</td>\n      <td>18</td>\n      <td>20</td>\n      <td>22</td>\n    </tr>\n    <tr>\n      <th>3</th>\n      <td>8</td>\n      <td>Bibb</td>\n      <td>Alabama</td>\n      <td>0</td>\n      <td>0</td>\n      <td>0</td>\n      <td>0</td>\n      <td>0</td>\n      <td>0</td>\n      <td>0</td>\n      <td>...</td>\n      <td>13</td>\n      <td>16</td>\n      <td>17</td>\n      <td>17</td>\n      <td>18</td>\n      <td>22</td>\n      <td>24</td>\n      <td>26</td>\n      <td>28</td>\n      <td>32</td>\n    </tr>\n    <tr>\n      <th>4</th>\n      <td>9</td>\n      <td>Blount</td>\n      <td>Alabama</td>\n      <td>0</td>\n      <td>0</td>\n      <td>0</td>\n      <td>0</td>\n      <td>0</td>\n      <td>0</td>\n      <td>0</td>\n      <td>...</td>\n      <td>12</td>\n      <td>13</td>\n      <td>14</td>\n      <td>16</td>\n      <td>17</td>\n      <td>18</td>\n      <td>20</td>\n      <td>20</td>\n      <td>21</td>\n      <td>22</td>\n    </tr>\n    <tr>\n      <th>...</th>\n      <td>...</td>\n      <td>...</td>\n      <td>...</td>\n      <td>...</td>\n      <td>...</td>\n      <td>...</td>\n      <td>...</td>\n      <td>...</td>\n      <td>...</td>\n      <td>...</td>\n      <td>...</td>\n      <td>...</td>\n      <td>...</td>\n      <td>...</td>\n      <td>...</td>\n      <td>...</td>\n      <td>...</td>\n      <td>...</td>\n      <td>...</td>\n      <td>...</td>\n      <td>...</td>\n    </tr>\n    <tr>\n      <th>423</th>\n      <td>3201</td>\n      <td>Unassigned</td>\n      <td>Alabama</td>\n      <td>0</td>\n      <td>0</td>\n      <td>0</td>\n      <td>0</td>\n      <td>0</td>\n      <td>0</td>\n      <td>0</td>\n      <td>...</td>\n      <td>0</td>\n      <td>0</td>\n      <td>0</td>\n      <td>0</td>\n      <td>0</td>\n      <td>0</td>\n      <td>0</td>\n      <td>0</td>\n      <td>0</td>\n      <td>0</td>\n    </tr>\n    <tr>\n      <th>424</th>\n      <td>3211</td>\n      <td>Unassigned</td>\n      <td>Georgia</td>\n      <td>0</td>\n      <td>0</td>\n      <td>0</td>\n      <td>0</td>\n      <td>0</td>\n      <td>0</td>\n      <td>0</td>\n      <td>...</td>\n      <td>1397</td>\n      <td>1218</td>\n      <td>1219</td>\n      <td>287</td>\n      <td>263</td>\n      <td>144</td>\n      <td>255</td>\n      <td>220</td>\n      <td>254</td>\n      <td>296</td>\n    </tr>\n    <tr>\n      <th>425</th>\n      <td>3219</td>\n      <td>Unassigned</td>\n      <td>Louisiana</td>\n      <td>0</td>\n      <td>0</td>\n      <td>0</td>\n      <td>0</td>\n      <td>0</td>\n      <td>0</td>\n      <td>0</td>\n      <td>...</td>\n      <td>54</td>\n      <td>54</td>\n      <td>56</td>\n      <td>56</td>\n      <td>56</td>\n      <td>56</td>\n      <td>56</td>\n      <td>57</td>\n      <td>58</td>\n      <td>59</td>\n    </tr>\n    <tr>\n      <th>426</th>\n      <td>3225</td>\n      <td>Unassigned</td>\n      <td>Mississippi</td>\n      <td>0</td>\n      <td>0</td>\n      <td>0</td>\n      <td>0</td>\n      <td>0</td>\n      <td>0</td>\n      <td>0</td>\n      <td>...</td>\n      <td>0</td>\n      <td>0</td>\n      <td>0</td>\n      <td>0</td>\n      <td>0</td>\n      <td>0</td>\n      <td>0</td>\n      <td>0</td>\n      <td>0</td>\n      <td>0</td>\n    </tr>\n    <tr>\n      <th>427</th>\n      <td>3241</td>\n      <td>Unassigned</td>\n      <td>South Carolina</td>\n      <td>0</td>\n      <td>0</td>\n      <td>0</td>\n      <td>0</td>\n      <td>0</td>\n      <td>0</td>\n      <td>0</td>\n      <td>...</td>\n      <td>0</td>\n      <td>0</td>\n      <td>0</td>\n      <td>0</td>\n      <td>0</td>\n      <td>0</td>\n      <td>0</td>\n      <td>0</td>\n      <td>0</td>\n      <td>0</td>\n    </tr>\n  </tbody>\n</table>\n<p>428 rows × 93 columns</p>\n</div>"
     },
     "metadata": {},
     "execution_count": 29
    }
   ],
   "source": [
    "confirmed"
   ]
  },
  {
   "cell_type": "code",
   "execution_count": 30,
   "metadata": {},
   "outputs": [],
   "source": [
    "confirmed = confirmed.drop(['index'], axis = 1)\n",
    "# deaths = deaths.drop(['index'], axis = 1)\n",
    "# tests = tests.drop(['index'], axis = 1)"
   ]
  },
  {
   "cell_type": "code",
   "execution_count": 31,
   "metadata": {},
   "outputs": [
    {
     "output_type": "execute_result",
     "data": {
      "text/plain": "         County           State  1/22/20  1/23/20  1/24/20  1/25/20  1/26/20  \\\n0       Autauga         Alabama        0        0        0        0        0   \n1       Baldwin         Alabama        0        0        0        0        0   \n2       Barbour         Alabama        0        0        0        0        0   \n3          Bibb         Alabama        0        0        0        0        0   \n4        Blount         Alabama        0        0        0        0        0   \n..          ...             ...      ...      ...      ...      ...      ...   \n423  Unassigned         Alabama        0        0        0        0        0   \n424  Unassigned         Georgia        0        0        0        0        0   \n425  Unassigned       Louisiana        0        0        0        0        0   \n426  Unassigned     Mississippi        0        0        0        0        0   \n427  Unassigned  South Carolina        0        0        0        0        0   \n\n     1/27/20  1/28/20  1/29/20  ...  4/11/20  4/12/20  4/13/20  4/14/20  \\\n0          0        0        0  ...       19       19       19       23   \n1          0        0        0  ...       66       71       72       87   \n2          0        0        0  ...        9       10       10       11   \n3          0        0        0  ...       13       16       17       17   \n4          0        0        0  ...       12       13       14       16   \n..       ...      ...      ...  ...      ...      ...      ...      ...   \n423        0        0        0  ...        0        0        0        0   \n424        0        0        0  ...     1397     1218     1219      287   \n425        0        0        0  ...       54       54       56       56   \n426        0        0        0  ...        0        0        0        0   \n427        0        0        0  ...        0        0        0        0   \n\n     4/15/20  4/16/20  4/17/20  4/18/20  4/19/20  4/20/20  \n0         24       26       26       25       26       28  \n1         91      101      103      109      112      117  \n2         12       14       15       18       20       22  \n3         18       22       24       26       28       32  \n4         17       18       20       20       21       22  \n..       ...      ...      ...      ...      ...      ...  \n423        0        0        0        0        0        0  \n424      263      144      255      220      254      296  \n425       56       56       56       57       58       59  \n426        0        0        0        0        0        0  \n427        0        0        0        0        0        0  \n\n[428 rows x 92 columns]",
      "text/html": "<div>\n<style scoped>\n    .dataframe tbody tr th:only-of-type {\n        vertical-align: middle;\n    }\n\n    .dataframe tbody tr th {\n        vertical-align: top;\n    }\n\n    .dataframe thead th {\n        text-align: right;\n    }\n</style>\n<table border=\"1\" class=\"dataframe\">\n  <thead>\n    <tr style=\"text-align: right;\">\n      <th></th>\n      <th>County</th>\n      <th>State</th>\n      <th>1/22/20</th>\n      <th>1/23/20</th>\n      <th>1/24/20</th>\n      <th>1/25/20</th>\n      <th>1/26/20</th>\n      <th>1/27/20</th>\n      <th>1/28/20</th>\n      <th>1/29/20</th>\n      <th>...</th>\n      <th>4/11/20</th>\n      <th>4/12/20</th>\n      <th>4/13/20</th>\n      <th>4/14/20</th>\n      <th>4/15/20</th>\n      <th>4/16/20</th>\n      <th>4/17/20</th>\n      <th>4/18/20</th>\n      <th>4/19/20</th>\n      <th>4/20/20</th>\n    </tr>\n  </thead>\n  <tbody>\n    <tr>\n      <th>0</th>\n      <td>Autauga</td>\n      <td>Alabama</td>\n      <td>0</td>\n      <td>0</td>\n      <td>0</td>\n      <td>0</td>\n      <td>0</td>\n      <td>0</td>\n      <td>0</td>\n      <td>0</td>\n      <td>...</td>\n      <td>19</td>\n      <td>19</td>\n      <td>19</td>\n      <td>23</td>\n      <td>24</td>\n      <td>26</td>\n      <td>26</td>\n      <td>25</td>\n      <td>26</td>\n      <td>28</td>\n    </tr>\n    <tr>\n      <th>1</th>\n      <td>Baldwin</td>\n      <td>Alabama</td>\n      <td>0</td>\n      <td>0</td>\n      <td>0</td>\n      <td>0</td>\n      <td>0</td>\n      <td>0</td>\n      <td>0</td>\n      <td>0</td>\n      <td>...</td>\n      <td>66</td>\n      <td>71</td>\n      <td>72</td>\n      <td>87</td>\n      <td>91</td>\n      <td>101</td>\n      <td>103</td>\n      <td>109</td>\n      <td>112</td>\n      <td>117</td>\n    </tr>\n    <tr>\n      <th>2</th>\n      <td>Barbour</td>\n      <td>Alabama</td>\n      <td>0</td>\n      <td>0</td>\n      <td>0</td>\n      <td>0</td>\n      <td>0</td>\n      <td>0</td>\n      <td>0</td>\n      <td>0</td>\n      <td>...</td>\n      <td>9</td>\n      <td>10</td>\n      <td>10</td>\n      <td>11</td>\n      <td>12</td>\n      <td>14</td>\n      <td>15</td>\n      <td>18</td>\n      <td>20</td>\n      <td>22</td>\n    </tr>\n    <tr>\n      <th>3</th>\n      <td>Bibb</td>\n      <td>Alabama</td>\n      <td>0</td>\n      <td>0</td>\n      <td>0</td>\n      <td>0</td>\n      <td>0</td>\n      <td>0</td>\n      <td>0</td>\n      <td>0</td>\n      <td>...</td>\n      <td>13</td>\n      <td>16</td>\n      <td>17</td>\n      <td>17</td>\n      <td>18</td>\n      <td>22</td>\n      <td>24</td>\n      <td>26</td>\n      <td>28</td>\n      <td>32</td>\n    </tr>\n    <tr>\n      <th>4</th>\n      <td>Blount</td>\n      <td>Alabama</td>\n      <td>0</td>\n      <td>0</td>\n      <td>0</td>\n      <td>0</td>\n      <td>0</td>\n      <td>0</td>\n      <td>0</td>\n      <td>0</td>\n      <td>...</td>\n      <td>12</td>\n      <td>13</td>\n      <td>14</td>\n      <td>16</td>\n      <td>17</td>\n      <td>18</td>\n      <td>20</td>\n      <td>20</td>\n      <td>21</td>\n      <td>22</td>\n    </tr>\n    <tr>\n      <th>...</th>\n      <td>...</td>\n      <td>...</td>\n      <td>...</td>\n      <td>...</td>\n      <td>...</td>\n      <td>...</td>\n      <td>...</td>\n      <td>...</td>\n      <td>...</td>\n      <td>...</td>\n      <td>...</td>\n      <td>...</td>\n      <td>...</td>\n      <td>...</td>\n      <td>...</td>\n      <td>...</td>\n      <td>...</td>\n      <td>...</td>\n      <td>...</td>\n      <td>...</td>\n      <td>...</td>\n    </tr>\n    <tr>\n      <th>423</th>\n      <td>Unassigned</td>\n      <td>Alabama</td>\n      <td>0</td>\n      <td>0</td>\n      <td>0</td>\n      <td>0</td>\n      <td>0</td>\n      <td>0</td>\n      <td>0</td>\n      <td>0</td>\n      <td>...</td>\n      <td>0</td>\n      <td>0</td>\n      <td>0</td>\n      <td>0</td>\n      <td>0</td>\n      <td>0</td>\n      <td>0</td>\n      <td>0</td>\n      <td>0</td>\n      <td>0</td>\n    </tr>\n    <tr>\n      <th>424</th>\n      <td>Unassigned</td>\n      <td>Georgia</td>\n      <td>0</td>\n      <td>0</td>\n      <td>0</td>\n      <td>0</td>\n      <td>0</td>\n      <td>0</td>\n      <td>0</td>\n      <td>0</td>\n      <td>...</td>\n      <td>1397</td>\n      <td>1218</td>\n      <td>1219</td>\n      <td>287</td>\n      <td>263</td>\n      <td>144</td>\n      <td>255</td>\n      <td>220</td>\n      <td>254</td>\n      <td>296</td>\n    </tr>\n    <tr>\n      <th>425</th>\n      <td>Unassigned</td>\n      <td>Louisiana</td>\n      <td>0</td>\n      <td>0</td>\n      <td>0</td>\n      <td>0</td>\n      <td>0</td>\n      <td>0</td>\n      <td>0</td>\n      <td>0</td>\n      <td>...</td>\n      <td>54</td>\n      <td>54</td>\n      <td>56</td>\n      <td>56</td>\n      <td>56</td>\n      <td>56</td>\n      <td>56</td>\n      <td>57</td>\n      <td>58</td>\n      <td>59</td>\n    </tr>\n    <tr>\n      <th>426</th>\n      <td>Unassigned</td>\n      <td>Mississippi</td>\n      <td>0</td>\n      <td>0</td>\n      <td>0</td>\n      <td>0</td>\n      <td>0</td>\n      <td>0</td>\n      <td>0</td>\n      <td>0</td>\n      <td>...</td>\n      <td>0</td>\n      <td>0</td>\n      <td>0</td>\n      <td>0</td>\n      <td>0</td>\n      <td>0</td>\n      <td>0</td>\n      <td>0</td>\n      <td>0</td>\n      <td>0</td>\n    </tr>\n    <tr>\n      <th>427</th>\n      <td>Unassigned</td>\n      <td>South Carolina</td>\n      <td>0</td>\n      <td>0</td>\n      <td>0</td>\n      <td>0</td>\n      <td>0</td>\n      <td>0</td>\n      <td>0</td>\n      <td>0</td>\n      <td>...</td>\n      <td>0</td>\n      <td>0</td>\n      <td>0</td>\n      <td>0</td>\n      <td>0</td>\n      <td>0</td>\n      <td>0</td>\n      <td>0</td>\n      <td>0</td>\n      <td>0</td>\n    </tr>\n  </tbody>\n</table>\n<p>428 rows × 92 columns</p>\n</div>"
     },
     "metadata": {},
     "execution_count": 31
    }
   ],
   "source": [
    "confirmed"
   ]
  },
  {
   "cell_type": "code",
   "execution_count": 33,
   "metadata": {},
   "outputs": [
    {
     "output_type": "error",
     "ename": "NameError",
     "evalue": "name 'tests' is not defined",
     "traceback": [
      "\u001b[1;31m---------------------------------------------------------------------------\u001b[0m",
      "\u001b[1;31mNameError\u001b[0m                                 Traceback (most recent call last)",
      "\u001b[1;32m<ipython-input-33-a25be6bb7a73>\u001b[0m in \u001b[0;36m<module>\u001b[1;34m\u001b[0m\n\u001b[1;32m----> 1\u001b[1;33m \u001b[0mtests\u001b[0m\u001b[1;33m[\u001b[0m\u001b[1;34m'Date'\u001b[0m\u001b[1;33m]\u001b[0m \u001b[1;33m=\u001b[0m \u001b[0mpd\u001b[0m\u001b[1;33m.\u001b[0m\u001b[0mto_datetime\u001b[0m\u001b[1;33m(\u001b[0m\u001b[0mtests\u001b[0m\u001b[1;33m[\u001b[0m\u001b[1;34m'Date'\u001b[0m\u001b[1;33m]\u001b[0m\u001b[1;33m,\u001b[0m \u001b[0mformat\u001b[0m\u001b[1;33m=\u001b[0m\u001b[1;34m'%Y%m%d'\u001b[0m\u001b[1;33m)\u001b[0m\u001b[1;33m.\u001b[0m\u001b[0mdt\u001b[0m\u001b[1;33m.\u001b[0m\u001b[0mstrftime\u001b[0m\u001b[1;33m(\u001b[0m\u001b[1;34m\"%m/%d/%y\"\u001b[0m\u001b[1;33m)\u001b[0m\u001b[1;33m\u001b[0m\u001b[1;33m\u001b[0m\u001b[0m\n\u001b[0m",
      "\u001b[1;31mNameError\u001b[0m: name 'tests' is not defined"
     ]
    }
   ],
   "source": [
    "# tests['Date'] = pd.to_datetime(tests['Date'], format='%Y%m%d').dt.strftime(\"%m/%d/%y\")"
   ]
  },
  {
   "cell_type": "code",
   "execution_count": 10,
   "metadata": {},
   "outputs": [],
   "source": [
    "confirmed['State'].replace({'Alabama':'01', 'Georgia':'13', 'Louisiana':'22', 'Mississippi':'28', 'South Carolina':'45'}, inplace = True)\n",
    "deaths['State'].replace({'Alabama':'01', 'Georgia':'13', 'Louisiana':'22', 'Mississippi':'28', 'South Carolina':'45'}, inplace = True)\n",
    "tests['State'].replace({'AL':'01', 'GA':'13', 'LA':'22', 'MS':'28', 'SC':'45'}, inplace = True)"
   ]
  },
  {
   "cell_type": "code",
   "execution_count": 11,
   "metadata": {},
   "outputs": [],
   "source": [
    "col_list = []\n",
    "for item in confirmed.iloc[:, 2:]:\n",
    "    col_list.append(item)"
   ]
  },
  {
   "cell_type": "code",
   "execution_count": 12,
   "metadata": {},
   "outputs": [],
   "source": [
    "confired_clean = confirmed.melt(id_vars=['County', 'State'], value_vars=[col_list[0]], var_name = 'Date', value_name = 'Cases')\n",
    "deaths_clean = deaths.melt(id_vars=['County', 'State'], value_vars=[col_list[0]], var_name = 'Date', value_name = 'Deaths')\n",
    "tests_clean = tests.melt(id_vars=['Date', 'State'], value_vars=['Tested'], var_name = 'County', value_name = 'Cases')"
   ]
  },
  {
   "cell_type": "code",
   "execution_count": 15,
   "metadata": {},
   "outputs": [
    {
     "data": {
      "text/html": [
       "<div>\n",
       "<style scoped>\n",
       "    .dataframe tbody tr th:only-of-type {\n",
       "        vertical-align: middle;\n",
       "    }\n",
       "\n",
       "    .dataframe tbody tr th {\n",
       "        vertical-align: top;\n",
       "    }\n",
       "\n",
       "    .dataframe thead th {\n",
       "        text-align: right;\n",
       "    }\n",
       "</style>\n",
       "<table border=\"1\" class=\"dataframe\">\n",
       "  <thead>\n",
       "    <tr style=\"text-align: right;\">\n",
       "      <th></th>\n",
       "      <th>County</th>\n",
       "      <th>State</th>\n",
       "      <th>Date</th>\n",
       "      <th>Deaths</th>\n",
       "    </tr>\n",
       "  </thead>\n",
       "  <tbody>\n",
       "    <tr>\n",
       "      <td>0</td>\n",
       "      <td>Autauga</td>\n",
       "      <td>01</td>\n",
       "      <td>1/22/20</td>\n",
       "      <td>0</td>\n",
       "    </tr>\n",
       "    <tr>\n",
       "      <td>1</td>\n",
       "      <td>Baldwin</td>\n",
       "      <td>01</td>\n",
       "      <td>1/22/20</td>\n",
       "      <td>0</td>\n",
       "    </tr>\n",
       "    <tr>\n",
       "      <td>2</td>\n",
       "      <td>Barbour</td>\n",
       "      <td>01</td>\n",
       "      <td>1/22/20</td>\n",
       "      <td>0</td>\n",
       "    </tr>\n",
       "    <tr>\n",
       "      <td>3</td>\n",
       "      <td>Bibb</td>\n",
       "      <td>01</td>\n",
       "      <td>1/22/20</td>\n",
       "      <td>0</td>\n",
       "    </tr>\n",
       "    <tr>\n",
       "      <td>4</td>\n",
       "      <td>Blount</td>\n",
       "      <td>01</td>\n",
       "      <td>1/22/20</td>\n",
       "      <td>0</td>\n",
       "    </tr>\n",
       "    <tr>\n",
       "      <td>...</td>\n",
       "      <td>...</td>\n",
       "      <td>...</td>\n",
       "      <td>...</td>\n",
       "      <td>...</td>\n",
       "    </tr>\n",
       "    <tr>\n",
       "      <td>423</td>\n",
       "      <td>Unassigned</td>\n",
       "      <td>01</td>\n",
       "      <td>1/22/20</td>\n",
       "      <td>0</td>\n",
       "    </tr>\n",
       "    <tr>\n",
       "      <td>424</td>\n",
       "      <td>Unassigned</td>\n",
       "      <td>13</td>\n",
       "      <td>1/22/20</td>\n",
       "      <td>0</td>\n",
       "    </tr>\n",
       "    <tr>\n",
       "      <td>425</td>\n",
       "      <td>Unassigned</td>\n",
       "      <td>22</td>\n",
       "      <td>1/22/20</td>\n",
       "      <td>0</td>\n",
       "    </tr>\n",
       "    <tr>\n",
       "      <td>426</td>\n",
       "      <td>Unassigned</td>\n",
       "      <td>28</td>\n",
       "      <td>1/22/20</td>\n",
       "      <td>0</td>\n",
       "    </tr>\n",
       "    <tr>\n",
       "      <td>427</td>\n",
       "      <td>Unassigned</td>\n",
       "      <td>45</td>\n",
       "      <td>1/22/20</td>\n",
       "      <td>0</td>\n",
       "    </tr>\n",
       "  </tbody>\n",
       "</table>\n",
       "<p>428 rows × 4 columns</p>\n",
       "</div>"
      ],
      "text/plain": [
       "         County State     Date  Deaths\n",
       "0       Autauga    01  1/22/20       0\n",
       "1       Baldwin    01  1/22/20       0\n",
       "2       Barbour    01  1/22/20       0\n",
       "3          Bibb    01  1/22/20       0\n",
       "4        Blount    01  1/22/20       0\n",
       "..          ...   ...      ...     ...\n",
       "423  Unassigned    01  1/22/20       0\n",
       "424  Unassigned    13  1/22/20       0\n",
       "425  Unassigned    22  1/22/20       0\n",
       "426  Unassigned    28  1/22/20       0\n",
       "427  Unassigned    45  1/22/20       0\n",
       "\n",
       "[428 rows x 4 columns]"
      ]
     },
     "execution_count": 15,
     "metadata": {},
     "output_type": "execute_result"
    }
   ],
   "source": [
    "for item in col_list[1:]:\n",
    "    confirmed_clean = confirmed.melt(id_vars=['County', 'State'], value_vars=[item], var_name = 'Date', value_name = 'Cases')\n",
    "    al_confirmed_clean = al_confirmed_clean.append(al_confirmed_clean_temp, ignore_index = True)\n",
    "    al_deaths_clean_temp = al_deaths.melt(id_vars=['Admin2', 'Province_State'], value_vars=[item], value_name = 'Deaths')\n",
    "    al_deaths_clean = al_deaths_clean.append(al_deaths_clean_temp, ignore_index = True)"
   ]
  },
  {
   "cell_type": "code",
   "execution_count": 6,
   "metadata": {},
   "outputs": [],
   "source": [
    "al_confirmed = confirmed.loc[confirmed['Province_State'] == 'Alabama'].reset_index()\n",
    "ga_confirmed = confirmed.loc[confirmed['Province_State'] == 'Georgia'].reset_index()\n",
    "la_confirmed = confirmed.loc[confirmed['Province_State'] == 'Louisiana'].reset_index()\n",
    "ms_confirmed = confirmed.loc[confirmed['Province_State'] == 'Mississippi'].reset_index()\n",
    "sc_confirmed = confirmed.loc[confirmed['Province_State'] == 'South Carolina'].reset_index()"
   ]
  },
  {
   "cell_type": "code",
   "execution_count": 7,
   "metadata": {},
   "outputs": [],
   "source": [
    "al_deaths = deaths.loc[deaths['Province_State'] == 'Alabama'].reset_index()\n",
    "ga_deaths = deaths.loc[deaths['Province_State'] == 'Georgia'].reset_index()\n",
    "la_deaths = deaths.loc[deaths['Province_State'] == 'Louisiana'].reset_index()\n",
    "ms_deaths = deaths.loc[deaths['Province_State'] == 'Mississippi'].reset_index()\n",
    "sc_deaths = deaths.loc[deaths['Province_State'] == 'South Carolina'].reset_index()"
   ]
  },
  {
   "cell_type": "code",
   "execution_count": 8,
   "metadata": {},
   "outputs": [],
   "source": [
    "al_tests = tests.loc[tests['state'] == '01'].reset_index()\n",
    "ga_tests = tests.loc[tests['state'] == '13'].reset_index()\n",
    "la_tests = tests.loc[tests['state'] == '22'].reset_index()\n",
    "ms_tests = tests.loc[tests['state'] == '28'].reset_index()\n",
    "sc_tests = tests.loc[tests['state'] == '45'].reset_index()"
   ]
  },
  {
   "cell_type": "code",
   "execution_count": 9,
   "metadata": {},
   "outputs": [],
   "source": [
    "al_confirmed = al_confirmed.drop(['index'], axis = 1)\n",
    "ga_confirmed = ga_confirmed.drop(['index'], axis = 1)\n",
    "la_confirmed = la_confirmed.drop(['index'], axis = 1)\n",
    "ms_confirmed = ms_confirmed.drop(['index'], axis = 1)\n",
    "sc_confirmed = sc_confirmed.drop(['index'], axis = 1)"
   ]
  },
  {
   "cell_type": "code",
   "execution_count": 10,
   "metadata": {},
   "outputs": [],
   "source": [
    "al_deaths = al_deaths.drop(['index'], axis = 1)\n",
    "ga_deaths = ga_deaths.drop(['index'], axis = 1)\n",
    "la_deaths = la_deaths.drop(['index'], axis = 1)\n",
    "ms_deaths = ms_deaths.drop(['index'], axis = 1)\n",
    "sc_deaths = sc_deaths.drop(['index'], axis = 1)"
   ]
  },
  {
   "cell_type": "code",
   "execution_count": 11,
   "metadata": {},
   "outputs": [],
   "source": [
    "al_tests = al_tests.drop(['index'], axis = 1)\n",
    "ga_tests = ga_tests.drop(['index'], axis = 1)\n",
    "la_tests = la_tests.drop(['index'], axis = 1)\n",
    "ms_tests = ms_tests.drop(['index'], axis = 1)\n",
    "sc_tests = sc_tests.drop(['index'], axis = 1)"
   ]
  },
  {
   "cell_type": "code",
   "execution_count": 12,
   "metadata": {},
   "outputs": [],
   "source": [
    "al_col_list = []\n",
    "ga_col_list = []\n",
    "la_col_list = []\n",
    "ms_col_list = []\n",
    "sc_col_list = []"
   ]
  },
  {
   "cell_type": "code",
   "execution_count": 13,
   "metadata": {},
   "outputs": [],
   "source": [
    "for item in al_confirmed.iloc[:, 2:]:\n",
    "    al_col_list.append(item)\n",
    "for item in ga_confirmed.iloc[:, 2:]:\n",
    "    ga_col_list.append(item)\n",
    "for item in la_confirmed.iloc[:, 2:]:\n",
    "    la_col_list.append(item)\n",
    "for item in ms_confirmed.iloc[:, 2:]:\n",
    "    ms_col_list.append(item)\n",
    "for item in sc_confirmed.iloc[:, 2:]:\n",
    "    sc_col_list.append(item)"
   ]
  },
  {
   "cell_type": "code",
   "execution_count": 14,
   "metadata": {},
   "outputs": [],
   "source": [
    "al_confirmed_clean = al_confirmed.melt(id_vars=['Admin2', 'Province_State'], value_vars=[al_col_list[0]], value_name = 'Cases')\n",
    "ga_confirmed_clean = ga_confirmed.melt(id_vars=['Admin2', 'Province_State'], value_vars=[ga_col_list[0]], value_name = 'Cases')\n",
    "la_confirmed_clean = la_confirmed.melt(id_vars=['Admin2', 'Province_State'], value_vars=[la_col_list[0]], value_name = 'Cases')\n",
    "ms_confirmed_clean = ms_confirmed.melt(id_vars=['Admin2', 'Province_State'], value_vars=[ms_col_list[0]], value_name = 'Cases')\n",
    "sc_confirmed_clean = sc_confirmed.melt(id_vars=['Admin2', 'Province_State'], value_vars=[ms_col_list[0]], value_name = 'Cases')"
   ]
  },
  {
   "cell_type": "code",
   "execution_count": 15,
   "metadata": {},
   "outputs": [],
   "source": [
    "al_deaths_clean = al_deaths.melt(id_vars=['Admin2', 'Province_State'], value_vars=[al_col_list[0]], value_name = 'Deaths')\n",
    "ga_deaths_clean = ga_deaths.melt(id_vars=['Admin2', 'Province_State'], value_vars=[ga_col_list[0]], value_name = 'Deaths')\n",
    "la_deaths_clean = la_deaths.melt(id_vars=['Admin2', 'Province_State'], value_vars=[la_col_list[0]], value_name = 'Deaths')\n",
    "ms_deaths_clean = ms_deaths.melt(id_vars=['Admin2', 'Province_State'], value_vars=[ms_col_list[0]], value_name = 'Deaths')\n",
    "sc_deaths_clean = sc_deaths.melt(id_vars=['Admin2', 'Province_State'], value_vars=[ms_col_list[0]], value_name = 'Deaths')"
   ]
  },
  {
   "cell_type": "code",
   "execution_count": 16,
   "metadata": {},
   "outputs": [],
   "source": [
    "for item in al_col_list[1:]:\n",
    "    al_confirmed_clean_temp = al_confirmed.melt(id_vars=['Admin2', 'Province_State'], value_vars=[item], value_name = 'Cases')\n",
    "    al_confirmed_clean = al_confirmed_clean.append(al_confirmed_clean_temp, ignore_index = True)\n",
    "    al_deaths_clean_temp = al_deaths.melt(id_vars=['Admin2', 'Province_State'], value_vars=[item], value_name = 'Deaths')\n",
    "    al_deaths_clean = al_deaths_clean.append(al_deaths_clean_temp, ignore_index = True)\n",
    "for item in ga_col_list[1:]:\n",
    "    ga_confirmed_clean_temp = ga_confirmed.melt(id_vars=['Admin2', 'Province_State'], value_vars=[item], value_name = 'Cases')\n",
    "    ga_confirmed_clean = ga_confirmed_clean.append(ga_confirmed_clean_temp, ignore_index = True)\n",
    "    ga_deaths_clean_temp = ga_deaths.melt(id_vars=['Admin2', 'Province_State'], value_vars=[item], value_name = 'Deaths')\n",
    "    ga_deaths_clean = ga_deaths_clean.append(ga_deaths_clean_temp, ignore_index = True)\n",
    "for item in la_col_list[1:]:\n",
    "    la_confirmed_clean_temp = la_confirmed.melt(id_vars=['Admin2', 'Province_State'], value_vars=[item], value_name = 'Cases')\n",
    "    la_confirmed_clean = la_confirmed_clean.append(la_confirmed_clean_temp, ignore_index = True)\n",
    "    la_deaths_clean_temp = la_deaths.melt(id_vars=['Admin2', 'Province_State'], value_vars=[item], value_name = 'Deaths')\n",
    "    la_deaths_clean = la_deaths_clean.append(la_deaths_clean_temp, ignore_index = True)\n",
    "for item in ms_col_list[1:]:\n",
    "    ms_confirmed_clean_temp = ms_confirmed.melt(id_vars=['Admin2', 'Province_State'], value_vars=[item], value_name = 'Cases')\n",
    "    ms_confirmed_clean = ms_confirmed_clean.append(ms_confirmed_clean_temp, ignore_index = True)\n",
    "    ms_deaths_clean_temp = ms_deaths.melt(id_vars=['Admin2', 'Province_State'], value_vars=[item], value_name = 'Deaths')\n",
    "    ms_deaths_clean = ms_deaths_clean.append(ms_deaths_clean_temp, ignore_index = True)\n",
    "for item in sc_col_list[1:]:\n",
    "    sc_confirmed_clean_temp = sc_confirmed.melt(id_vars=['Admin2', 'Province_State'], value_vars=[item], value_name = 'Cases')\n",
    "    sc_confirmed_clean = sc_confirmed_clean.append(sc_confirmed_clean_temp, ignore_index = True)\n",
    "    sc_deaths_clean_temp = sc_deaths.melt(id_vars=['Admin2', 'Province_State'], value_vars=[item], value_name = 'Deaths')\n",
    "    sc_deaths_clean = sc_deaths_clean.append(sc_deaths_clean_temp, ignore_index = True)"
   ]
  },
  {
   "cell_type": "code",
   "execution_count": 17,
   "metadata": {},
   "outputs": [],
   "source": [
    "al_combined_clean = pd.merge(al_confirmed_clean, al_deaths_clean, on = ['Admin2', 'Province_State', 'variable'])\n",
    "ga_combined_clean = pd.merge(ga_confirmed_clean, ga_deaths_clean, on = ['Admin2', 'Province_State', 'variable'])\n",
    "la_combined_clean = pd.merge(la_confirmed_clean, la_deaths_clean, on = ['Admin2', 'Province_State', 'variable'])\n",
    "ms_combined_clean = pd.merge(ms_confirmed_clean, ms_deaths_clean, on = ['Admin2', 'Province_State', 'variable'])\n",
    "sc_combined_clean = pd.merge(sc_confirmed_clean, sc_deaths_clean, on = ['Admin2', 'Province_State', 'variable'])"
   ]
  },
  {
   "cell_type": "code",
   "execution_count": 18,
   "metadata": {},
   "outputs": [],
   "source": [
    "al_combined_clean.rename(columns = {'Admin2':'County', 'Province_State':'State', 'variable':'Date'}, inplace = True)\n",
    "ga_combined_clean.rename(columns = {'Admin2':'County', 'Province_State':'State', 'variable':'Date'}, inplace = True)\n",
    "la_combined_clean.rename(columns = {'Admin2':'County', 'Province_State':'State', 'variable':'Date'}, inplace = True)\n",
    "ms_combined_clean.rename(columns = {'Admin2':'County', 'Province_State':'State', 'variable':'Date'}, inplace = True)\n",
    "sc_combined_clean.rename(columns = {'Admin2':'County', 'Province_State':'State', 'variable':'Date'}, inplace = True)"
   ]
  },
  {
   "cell_type": "code",
   "execution_count": 19,
   "metadata": {},
   "outputs": [],
   "source": [
    "al_combined_clean = al_combined_clean[['State', 'County', 'Date', 'Cases', 'Deaths']]\n",
    "ga_combined_clean = ga_combined_clean[['State', 'County', 'Date', 'Cases', 'Deaths']]\n",
    "la_combined_clean = la_combined_clean[['State', 'County', 'Date', 'Cases', 'Deaths']]\n",
    "ms_combined_clean = ms_combined_clean[['State', 'County', 'Date', 'Cases', 'Deaths']]\n",
    "sc_combined_clean = sc_combined_clean[['State', 'County', 'Date', 'Cases', 'Deaths']]"
   ]
  },
  {
   "cell_type": "code",
   "execution_count": 20,
   "metadata": {},
   "outputs": [],
   "source": [
    "al_combined_clean['State'].replace({'Alabama':'01'}, inplace = True)\n",
    "al_combined_clean = al_combined_clean[al_combined_clean.County != 'Unassigned']\n",
    "al_combined_clean = al_combined_clean[al_combined_clean.County != 'Out of AL']\n",
    "\n",
    "ga_combined_clean['State'].replace({'Georgia':'13'}, inplace = True)\n",
    "ga_combined_clean['County'].replace({'Unassigned':'Unknown'}, inplace = True)\n",
    "ga_combined_clean = ga_combined_clean[ga_combined_clean.County != 'Out of GA']\n",
    "\n",
    "la_combined_clean['State'].replace({'Louisiana':'22'}, inplace = True)\n",
    "la_combined_clean['County'].replace({'Unassigned':'Unknown'}, inplace = True)\n",
    "la_combined_clean['County'].replace({'LaSalle':'La Salle'}, inplace = True)\n",
    "la_combined_clean = la_combined_clean[la_combined_clean.County != 'Out of LA']\n",
    "\n",
    "ms_combined_clean['State'].replace({'Mississippi':'28'}, inplace = True)\n",
    "ms_combined_clean['County'].replace({'Unassigned':'Unknown'}, inplace = True)\n",
    "ms_combined_clean = ms_combined_clean[ms_combined_clean.County != 'Out of MS']\n",
    "\n",
    "sc_combined_clean['State'].replace({'South Carolina':'45'}, inplace = True)\n",
    "sc_combined_clean = sc_combined_clean[sc_combined_clean.County != 'Unassigned']\n",
    "sc_combined_clean = sc_combined_clean[sc_combined_clean.County != 'Out of SC']"
   ]
  },
  {
   "cell_type": "code",
   "execution_count": 21,
   "metadata": {},
   "outputs": [],
   "source": [
    "al_tests['state'].replace({'AL':'01'}, inplace = True)\n",
    "ga_tests['state'].replace({'GA':'13'}, inplace = True)\n",
    "la_tests['state'].replace({'LA':'22'}, inplace = True)\n",
    "ms_tests['state'].replace({'MS':'28'}, inplace = True)\n",
    "sc_tests['state'].replace({'SC':'45'}, inplace = True)"
   ]
  },
  {
   "cell_type": "code",
   "execution_count": 22,
   "metadata": {},
   "outputs": [],
   "source": [
    "al_tests.rename(columns = {'date':'Date', 'state':'State', 'total':'Tested'}, inplace = True)\n",
    "ga_tests.rename(columns = {'date':'Date', 'state':'State', 'total':'Tested'}, inplace = True)\n",
    "la_tests.rename(columns = {'date':'Date', 'state':'State', 'total':'Tested'}, inplace = True)\n",
    "ms_tests.rename(columns = {'date':'Date', 'state':'State', 'total':'Tested'}, inplace = True)\n",
    "sc_tests.rename(columns = {'date':'Date', 'state':'State', 'total':'Tested'}, inplace = True)"
   ]
  },
  {
   "cell_type": "code",
   "execution_count": 23,
   "metadata": {},
   "outputs": [],
   "source": [
    "al_tests = al_tests.melt(id_vars=['Date', 'State'], value_vars=['Tested'], var_name = 'County', value_name = 'Cases')\n",
    "ga_tests = ga_tests.melt(id_vars=['Date', 'State'], value_vars=['Tested'], var_name = 'County', value_name = 'Cases')\n",
    "la_tests = la_tests.melt(id_vars=['Date', 'State'], value_vars=['Tested'], var_name = 'County', value_name = 'Cases')\n",
    "ms_tests = ms_tests.melt(id_vars=['Date', 'State'], value_vars=['Tested'], var_name = 'County', value_name = 'Cases')\n",
    "sc_tests = sc_tests.melt(id_vars=['Date', 'State'], value_vars=['Tested'], var_name = 'County', value_name = 'Cases')"
   ]
  },
  {
   "cell_type": "code",
   "execution_count": 24,
   "metadata": {},
   "outputs": [],
   "source": [
    "al_tests.Cases = al_tests.Cases.astype('int64')\n",
    "ga_tests.Cases = ga_tests.Cases.astype('int64')\n",
    "la_tests.Cases = la_tests.Cases.astype('int64')\n",
    "ms_tests.Cases = ms_tests.Cases.astype('int64')\n",
    "sc_tests.Cases = sc_tests.Cases.astype('int64')"
   ]
  },
  {
   "cell_type": "code",
   "execution_count": 25,
   "metadata": {},
   "outputs": [],
   "source": [
    "al_final = pd.concat([al_combined_clean, al_tests], sort = True).reset_index()\n",
    "ga_final = pd.concat([ga_combined_clean, ga_tests], sort = True).reset_index()\n",
    "la_final = pd.concat([la_combined_clean, la_tests], sort = True).reset_index()\n",
    "ms_final = pd.concat([ms_combined_clean, ms_tests], sort = True).reset_index()\n",
    "sc_final = pd.concat([sc_combined_clean, sc_tests], sort = True).reset_index()"
   ]
  },
  {
   "cell_type": "code",
   "execution_count": 26,
   "metadata": {},
   "outputs": [],
   "source": [
    "al_final.Deaths.fillna(0, inplace = True)\n",
    "al_final.Deaths = al_final.Deaths.astype('int64')\n",
    "al_final = al_final.drop(['index'], axis = 1)\n",
    "al_final = al_final[['State', 'County', 'Date', 'Cases', 'Deaths']]\n",
    "\n",
    "ga_final.Deaths.fillna(0, inplace = True)\n",
    "ga_final.Deaths = ga_final.Deaths.astype('int64')\n",
    "ga_final = ga_final.drop(['index'], axis = 1)\n",
    "ga_final = ga_final[['State', 'County', 'Date', 'Cases', 'Deaths']]\n",
    "\n",
    "la_final.Deaths.fillna(0, inplace = True)\n",
    "la_final.Deaths = la_final.Deaths.astype('int64')\n",
    "la_final = la_final.drop(['index'], axis = 1)\n",
    "la_final = la_final[['State', 'County', 'Date', 'Cases', 'Deaths']]\n",
    "\n",
    "ms_final.Deaths.fillna(0, inplace = True)\n",
    "ms_final.Deaths = ms_final.Deaths.astype('int64')\n",
    "ms_final = ms_final.drop(['index'], axis = 1)\n",
    "ms_final = ms_final[['State', 'County', 'Date', 'Cases', 'Deaths']]\n",
    "\n",
    "sc_final.Deaths.fillna(0, inplace = True)\n",
    "sc_final.Deaths = sc_final.Deaths.astype('int64')\n",
    "sc_final = sc_final.drop(['index'], axis = 1)\n",
    "sc_final = sc_final[['State', 'County', 'Date', 'Cases', 'Deaths']]"
   ]
  },
  {
   "cell_type": "code",
   "execution_count": 27,
   "metadata": {},
   "outputs": [],
   "source": [
    "dss = pd.concat([al_final, ga_final, la_final, ms_final, sc_final])"
   ]
  },
  {
   "cell_type": "code",
   "execution_count": 28,
   "metadata": {},
   "outputs": [],
   "source": [
    "al_final.to_csv('al-clean.csv', index=False)\n",
    "ga_final.to_csv('ga-clean.csv', index=False)\n",
    "la_final.to_csv('la-clean.csv', index=False)\n",
    "ms_final.to_csv('ms-clean.csv', index=False)\n",
    "sc_final.to_csv('sc-clean.csv', index=False)\n",
    "dss.to_csv('dss-clean.csv', index=False)"
   ]
  }
 ],
 "metadata": {
  "kernelspec": {
   "display_name": "Python 3",
   "language": "python",
   "name": "python3"
  },
  "language_info": {
   "codemirror_mode": {
    "name": "ipython",
    "version": 3
   },
   "file_extension": ".py",
   "mimetype": "text/x-python",
   "name": "python",
   "nbconvert_exporter": "python",
   "pygments_lexer": "ipython3",
   "version": "3.7.4-final"
  }
 },
 "nbformat": 4,
 "nbformat_minor": 4
}