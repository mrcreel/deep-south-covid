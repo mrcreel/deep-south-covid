{
 "cells": [
  {
   "cell_type": "code",
   "execution_count": 1,
   "metadata": {},
   "outputs": [],
   "source": [
    "import pandas as pd\n",
    "import csv"
   ]
  },
  {
   "cell_type": "code",
   "execution_count": 2,
   "metadata": {},
   "outputs": [],
   "source": [
    "url_confirmed = 'https://raw.githubusercontent.com/CSSEGISandData/COVID-19/master/csse_covid_19_data/csse_covid_19_time_series/time_series_covid19_confirmed_US.csv'\n",
    "url_deaths = 'https://raw.githubusercontent.com/CSSEGISandData/COVID-19/master/csse_covid_19_data/csse_covid_19_time_series/time_series_covid19_deaths_US.csv'\n",
    "url_tests = 'https://covidtracking.com/api/v1/states/daily.csv'"
   ]
  },
  {
   "cell_type": "code",
   "execution_count": 3,
   "metadata": {},
   "outputs": [],
   "source": [
    "confirmed = pd.read_csv(url_confirmed)\n",
    "deaths = pd.read_csv(url_deaths)\n",
    "tests = pd.read_csv(url_tests)"
   ]
  },
  {
   "cell_type": "code",
   "execution_count": 4,
   "metadata": {},
   "outputs": [],
   "source": [
    "confirmed = confirmed.drop(['UID', 'iso2', 'iso3', 'code3', 'FIPS', 'Country_Region', 'Lat', 'Long_', 'Combined_Key'], axis = 1)\n",
    "deaths = deaths.drop(['UID', 'iso2', 'iso3', 'code3', 'FIPS', 'Country_Region', 'Lat', 'Long_', 'Combined_Key', 'Population'], axis = 1)\n",
    "tests = tests.drop(['positive', 'negative', 'pending', 'hospitalizedCurrently', 'hospitalizedCumulative', 'inIcuCurrently', 'inIcuCumulative', 'onVentilatorCurrently', 'onVentilatorCumulative', 'recovered', 'hash', 'dateChecked', 'death', 'hospitalized', 'totalTestResults', 'posNeg', 'fips', 'deathIncrease', 'hospitalizedIncrease', 'negativeIncrease', 'positiveIncrease', 'totalTestResultsIncrease'], axis = 1)"
   ]
  },
  {
   "cell_type": "code",
   "execution_count": 5,
   "metadata": {},
   "outputs": [],
   "source": [
    "tests['date'] = pd.to_datetime(tests['date'], format='%Y%m%d').dt.strftime(\"%m/%d/%y\")"
   ]
  },
  {
   "cell_type": "code",
   "execution_count": 6,
   "metadata": {},
   "outputs": [],
   "source": [
    "al_confirmed = confirmed.loc[confirmed['Province_State'] == 'Alabama'].reset_index()\n",
    "ga_confirmed = confirmed.loc[confirmed['Province_State'] == 'Georgia'].reset_index()\n",
    "la_confirmed = confirmed.loc[confirmed['Province_State'] == 'Louisiana'].reset_index()\n",
    "ms_confirmed = confirmed.loc[confirmed['Province_State'] == 'Mississippi'].reset_index()\n",
    "sc_confirmed = confirmed.loc[confirmed['Province_State'] == 'South Carolina'].reset_index()"
   ]
  },
  {
   "cell_type": "code",
   "execution_count": 7,
   "metadata": {},
   "outputs": [],
   "source": [
    "al_deaths = deaths.loc[deaths['Province_State'] == 'Alabama'].reset_index()\n",
    "ga_deaths = deaths.loc[deaths['Province_State'] == 'Georgia'].reset_index()\n",
    "la_deaths = deaths.loc[deaths['Province_State'] == 'Louisiana'].reset_index()\n",
    "ms_deaths = deaths.loc[deaths['Province_State'] == 'Mississippi'].reset_index()\n",
    "sc_deaths = deaths.loc[deaths['Province_State'] == 'South Carolina'].reset_index()"
   ]
  },
  {
   "cell_type": "code",
   "execution_count": 8,
   "metadata": {},
   "outputs": [],
   "source": [
    "al_tests = tests.loc[tests['state'] == 'AL'].reset_index()\n",
    "ga_tests = tests.loc[tests['state'] == 'GA'].reset_index()\n",
    "la_tests = tests.loc[tests['state'] == 'LA'].reset_index()\n",
    "ms_tests = tests.loc[tests['state'] == 'MS'].reset_index()\n",
    "sc_tests = tests.loc[tests['state'] == 'SC'].reset_index()"
   ]
  },
  {
   "cell_type": "code",
   "execution_count": 9,
   "metadata": {},
   "outputs": [],
   "source": [
    "al_confirmed = al_confirmed.drop(['index'], axis = 1)\n",
    "ga_confirmed = ga_confirmed.drop(['index'], axis = 1)\n",
    "la_confirmed = la_confirmed.drop(['index'], axis = 1)\n",
    "ms_confirmed = ms_confirmed.drop(['index'], axis = 1)\n",
    "sc_confirmed = sc_confirmed.drop(['index'], axis = 1)"
   ]
  },
  {
   "cell_type": "code",
   "execution_count": 10,
   "metadata": {},
   "outputs": [],
   "source": [
    "al_deaths = al_deaths.drop(['index'], axis = 1)\n",
    "ga_deaths = ga_deaths.drop(['index'], axis = 1)\n",
    "la_deaths = la_deaths.drop(['index'], axis = 1)\n",
    "ms_deaths = ms_deaths.drop(['index'], axis = 1)\n",
    "sc_deaths = sc_deaths.drop(['index'], axis = 1)"
   ]
  },
  {
   "cell_type": "code",
   "execution_count": 11,
   "metadata": {},
   "outputs": [],
   "source": [
    "al_tests = al_tests.drop(['index'], axis = 1)\n",
    "ga_tests = ga_tests.drop(['index'], axis = 1)\n",
    "la_tests = la_tests.drop(['index'], axis = 1)\n",
    "ms_tests = ms_tests.drop(['index'], axis = 1)\n",
    "sc_tests = sc_tests.drop(['index'], axis = 1)"
   ]
  },
  {
   "cell_type": "code",
   "execution_count": 12,
   "metadata": {},
   "outputs": [],
   "source": [
    "al_col_list = []\n",
    "ga_col_list = []\n",
    "la_col_list = []\n",
    "ms_col_list = []\n",
    "sc_col_list = []"
   ]
  },
  {
   "cell_type": "code",
   "execution_count": 13,
   "metadata": {},
   "outputs": [],
   "source": [
    "for item in al_confirmed.iloc[:, 2:]:\n",
    "    al_col_list.append(item)\n",
    "for item in ga_confirmed.iloc[:, 2:]:\n",
    "    ga_col_list.append(item)\n",
    "for item in la_confirmed.iloc[:, 2:]:\n",
    "    la_col_list.append(item)\n",
    "for item in ms_confirmed.iloc[:, 2:]:\n",
    "    ms_col_list.append(item)\n",
    "for item in sc_confirmed.iloc[:, 2:]:\n",
    "    sc_col_list.append(item)"
   ]
  },
  {
   "cell_type": "code",
   "execution_count": 14,
   "metadata": {},
   "outputs": [],
   "source": [
    "al_confirmed_clean = al_confirmed.melt(id_vars=['Admin2', 'Province_State'], value_vars=[al_col_list[0]], value_name = 'Cases')\n",
    "ga_confirmed_clean = ga_confirmed.melt(id_vars=['Admin2', 'Province_State'], value_vars=[ga_col_list[0]], value_name = 'Cases')\n",
    "la_confirmed_clean = la_confirmed.melt(id_vars=['Admin2', 'Province_State'], value_vars=[la_col_list[0]], value_name = 'Cases')\n",
    "ms_confirmed_clean = ms_confirmed.melt(id_vars=['Admin2', 'Province_State'], value_vars=[ms_col_list[0]], value_name = 'Cases')\n",
    "sc_confirmed_clean = sc_confirmed.melt(id_vars=['Admin2', 'Province_State'], value_vars=[ms_col_list[0]], value_name = 'Cases')"
   ]
  },
  {
   "cell_type": "code",
   "execution_count": 15,
   "metadata": {},
   "outputs": [],
   "source": [
    "al_deaths_clean = al_deaths.melt(id_vars=['Admin2', 'Province_State'], value_vars=[al_col_list[0]], value_name = 'Deaths')\n",
    "ga_deaths_clean = ga_deaths.melt(id_vars=['Admin2', 'Province_State'], value_vars=[ga_col_list[0]], value_name = 'Deaths')\n",
    "la_deaths_clean = la_deaths.melt(id_vars=['Admin2', 'Province_State'], value_vars=[la_col_list[0]], value_name = 'Deaths')\n",
    "ms_deaths_clean = ms_deaths.melt(id_vars=['Admin2', 'Province_State'], value_vars=[ms_col_list[0]], value_name = 'Deaths')\n",
    "sc_deaths_clean = sc_deaths.melt(id_vars=['Admin2', 'Province_State'], value_vars=[ms_col_list[0]], value_name = 'Deaths')"
   ]
  },
  {
   "cell_type": "code",
   "execution_count": 16,
   "metadata": {},
   "outputs": [],
   "source": [
    "for item in al_col_list[1:]:\n",
    "    al_confirmed_clean_temp = al_confirmed.melt(id_vars=['Admin2', 'Province_State'], value_vars=[item], value_name = 'Cases')\n",
    "    al_confirmed_clean = al_confirmed_clean.append(al_confirmed_clean_temp, ignore_index = True)\n",
    "    al_deaths_clean_temp = al_deaths.melt(id_vars=['Admin2', 'Province_State'], value_vars=[item], value_name = 'Deaths')\n",
    "    al_deaths_clean = al_deaths_clean.append(al_deaths_clean_temp, ignore_index = True)\n",
    "for item in ga_col_list[1:]:\n",
    "    ga_confirmed_clean_temp = ga_confirmed.melt(id_vars=['Admin2', 'Province_State'], value_vars=[item], value_name = 'Cases')\n",
    "    ga_confirmed_clean = ga_confirmed_clean.append(ga_confirmed_clean_temp, ignore_index = True)\n",
    "    ga_deaths_clean_temp = ga_deaths.melt(id_vars=['Admin2', 'Province_State'], value_vars=[item], value_name = 'Deaths')\n",
    "    ga_deaths_clean = ga_deaths_clean.append(ga_deaths_clean_temp, ignore_index = True)\n",
    "for item in la_col_list[1:]:\n",
    "    la_confirmed_clean_temp = la_confirmed.melt(id_vars=['Admin2', 'Province_State'], value_vars=[item], value_name = 'Cases')\n",
    "    la_confirmed_clean = la_confirmed_clean.append(la_confirmed_clean_temp, ignore_index = True)\n",
    "    la_deaths_clean_temp = la_deaths.melt(id_vars=['Admin2', 'Province_State'], value_vars=[item], value_name = 'Deaths')\n",
    "    la_deaths_clean = la_deaths_clean.append(la_deaths_clean_temp, ignore_index = True)\n",
    "for item in ms_col_list[1:]:\n",
    "    ms_confirmed_clean_temp = ms_confirmed.melt(id_vars=['Admin2', 'Province_State'], value_vars=[item], value_name = 'Cases')\n",
    "    ms_confirmed_clean = ms_confirmed_clean.append(ms_confirmed_clean_temp, ignore_index = True)\n",
    "    ms_deaths_clean_temp = ms_deaths.melt(id_vars=['Admin2', 'Province_State'], value_vars=[item], value_name = 'Deaths')\n",
    "    ms_deaths_clean = ms_deaths_clean.append(ms_deaths_clean_temp, ignore_index = True)\n",
    "for item in sc_col_list[1:]:\n",
    "    sc_confirmed_clean_temp = sc_confirmed.melt(id_vars=['Admin2', 'Province_State'], value_vars=[item], value_name = 'Cases')\n",
    "    sc_confirmed_clean = sc_confirmed_clean.append(sc_confirmed_clean_temp, ignore_index = True)\n",
    "    sc_deaths_clean_temp = sc_deaths.melt(id_vars=['Admin2', 'Province_State'], value_vars=[item], value_name = 'Deaths')\n",
    "    sc_deaths_clean = sc_deaths_clean.append(sc_deaths_clean_temp, ignore_index = True)"
   ]
  },
  {
   "cell_type": "code",
   "execution_count": 17,
   "metadata": {},
   "outputs": [],
   "source": [
    "al_combined_clean = pd.merge(al_confirmed_clean, al_deaths_clean, on = ['Admin2', 'Province_State', 'variable'])\n",
    "ga_combined_clean = pd.merge(ga_confirmed_clean, ga_deaths_clean, on = ['Admin2', 'Province_State', 'variable'])\n",
    "la_combined_clean = pd.merge(la_confirmed_clean, la_deaths_clean, on = ['Admin2', 'Province_State', 'variable'])\n",
    "ms_combined_clean = pd.merge(ms_confirmed_clean, ms_deaths_clean, on = ['Admin2', 'Province_State', 'variable'])\n",
    "sc_combined_clean = pd.merge(sc_confirmed_clean, sc_deaths_clean, on = ['Admin2', 'Province_State', 'variable'])"
   ]
  },
  {
   "cell_type": "code",
   "execution_count": 18,
   "metadata": {},
   "outputs": [],
   "source": [
    "al_combined_clean.rename(columns = {'Admin2':'County', 'Province_State':'State', 'variable':'Date'}, inplace = True)\n",
    "ga_combined_clean.rename(columns = {'Admin2':'County', 'Province_State':'State', 'variable':'Date'}, inplace = True)\n",
    "la_combined_clean.rename(columns = {'Admin2':'County', 'Province_State':'State', 'variable':'Date'}, inplace = True)\n",
    "ms_combined_clean.rename(columns = {'Admin2':'County', 'Province_State':'State', 'variable':'Date'}, inplace = True)\n",
    "sc_combined_clean.rename(columns = {'Admin2':'County', 'Province_State':'State', 'variable':'Date'}, inplace = True)"
   ]
  },
  {
   "cell_type": "code",
   "execution_count": 19,
   "metadata": {},
   "outputs": [],
   "source": [
    "al_combined_clean = al_combined_clean[['State', 'County', 'Date', 'Cases', 'Deaths']]\n",
    "ga_combined_clean = ga_combined_clean[['State', 'County', 'Date', 'Cases', 'Deaths']]\n",
    "la_combined_clean = la_combined_clean[['State', 'County', 'Date', 'Cases', 'Deaths']]\n",
    "ms_combined_clean = ms_combined_clean[['State', 'County', 'Date', 'Cases', 'Deaths']]\n",
    "sc_combined_clean = sc_combined_clean[['State', 'County', 'Date', 'Cases', 'Deaths']]"
   ]
  },
  {
   "cell_type": "code",
   "execution_count": 20,
   "metadata": {},
   "outputs": [],
   "source": [
    "al_combined_clean['State'].replace({'Alabama':'01'}, inplace = True)\n",
    "al_combined_clean = al_combined_clean[al_combined_clean.County != 'Unassigned']\n",
    "al_combined_clean = al_combined_clean[al_combined_clean.County != 'Out of AL']\n",
    "\n",
    "ga_combined_clean['State'].replace({'Georgia':'13'}, inplace = True)\n",
    "ga_combined_clean['County'].replace({'Unassigned':'Unknown'}, inplace = True)\n",
    "ga_combined_clean = ga_combined_clean[ga_combined_clean.County != 'Out of GA']\n",
    "\n",
    "la_combined_clean['State'].replace({'Louisiana':'22'}, inplace = True)\n",
    "la_combined_clean['County'].replace({'Unassigned':'Unknown'}, inplace = True)\n",
    "la_combined_clean = la_combined_clean[la_combined_clean.County != 'Out of LA']\n",
    "\n",
    "ms_combined_clean['State'].replace({'Mississippi':'28'}, inplace = True)\n",
    "ms_combined_clean['County'].replace({'Unassigned':'Unknown'}, inplace = True)\n",
    "ms_combined_clean = ms_combined_clean[ms_combined_clean.County != 'Out of MS']\n",
    "\n",
    "sc_combined_clean['State'].replace({'South Carolina':'45'}, inplace = True)\n",
    "sc_combined_clean = sc_combined_clean[sc_combined_clean.County != 'Unassigned']\n",
    "sc_combined_clean = sc_combined_clean[sc_combined_clean.County != 'Out of SC']"
   ]
  },
  {
   "cell_type": "code",
   "execution_count": 21,
   "metadata": {},
   "outputs": [],
   "source": [
    "al_tests['state'].replace({'AL':'01'}, inplace = True)\n",
    "ga_tests['state'].replace({'GA':'13'}, inplace = True)\n",
    "la_tests['state'].replace({'LA':'22'}, inplace = True)\n",
    "ms_tests['state'].replace({'MS':'28'}, inplace = True)\n",
    "sc_tests['state'].replace({'SC':'45'}, inplace = True)"
   ]
  },
  {
   "cell_type": "code",
   "execution_count": 22,
   "metadata": {},
   "outputs": [],
   "source": [
    "al_tests.rename(columns = {'date':'Date', 'state':'State', 'total':'Tested'}, inplace = True)\n",
    "ga_tests.rename(columns = {'date':'Date', 'state':'State', 'total':'Tested'}, inplace = True)\n",
    "la_tests.rename(columns = {'date':'Date', 'state':'State', 'total':'Tested'}, inplace = True)\n",
    "ms_tests.rename(columns = {'date':'Date', 'state':'State', 'total':'Tested'}, inplace = True)\n",
    "sc_tests.rename(columns = {'date':'Date', 'state':'State', 'total':'Tested'}, inplace = True)"
   ]
  },
  {
   "cell_type": "code",
   "execution_count": 23,
   "metadata": {},
   "outputs": [],
   "source": [
    "al_tests = al_tests.melt(id_vars=['Date', 'State'], value_vars=['Tested'], var_name = 'County', value_name = 'Cases')\n",
    "ga_tests = ga_tests.melt(id_vars=['Date', 'State'], value_vars=['Tested'], var_name = 'County', value_name = 'Cases')\n",
    "la_tests = la_tests.melt(id_vars=['Date', 'State'], value_vars=['Tested'], var_name = 'County', value_name = 'Cases')\n",
    "ms_tests = ms_tests.melt(id_vars=['Date', 'State'], value_vars=['Tested'], var_name = 'County', value_name = 'Cases')\n",
    "sc_tests = sc_tests.melt(id_vars=['Date', 'State'], value_vars=['Tested'], var_name = 'County', value_name = 'Cases')"
   ]
  },
  {
   "cell_type": "code",
   "execution_count": 24,
   "metadata": {},
   "outputs": [],
   "source": [
    "al_tests.Cases = al_tests.Cases.astype('int64')\n",
    "ga_tests.Cases = ga_tests.Cases.astype('int64')\n",
    "la_tests.Cases = la_tests.Cases.astype('int64')\n",
    "ms_tests.Cases = ms_tests.Cases.astype('int64')\n",
    "sc_tests.Cases = sc_tests.Cases.astype('int64')"
   ]
  },
  {
   "cell_type": "code",
   "execution_count": 25,
   "metadata": {},
   "outputs": [],
   "source": [
    "al_final = pd.concat([al_combined_clean, al_tests], sort = True).reset_index()\n",
    "ga_final = pd.concat([ga_combined_clean, ga_tests], sort = True).reset_index()\n",
    "la_final = pd.concat([la_combined_clean, la_tests], sort = True).reset_index()\n",
    "ms_final = pd.concat([ms_combined_clean, ms_tests], sort = True).reset_index()\n",
    "sc_final = pd.concat([sc_combined_clean, sc_tests], sort = True).reset_index()"
   ]
  },
  {
   "cell_type": "code",
   "execution_count": 26,
   "metadata": {},
   "outputs": [],
   "source": [
    "al_final.Deaths.fillna(0, inplace = True)\n",
    "al_final.Deaths = al_final.Deaths.astype('int64')\n",
    "al_final = al_final.drop(['index'], axis = 1)\n",
    "al_final = al_final[['State', 'County', 'Date', 'Cases', 'Deaths']]\n",
    "\n",
    "ga_final.Deaths.fillna(0, inplace = True)\n",
    "ga_final.Deaths = ga_final.Deaths.astype('int64')\n",
    "ga_final = ga_final.drop(['index'], axis = 1)\n",
    "ga_final = ga_final[['State', 'County', 'Date', 'Cases', 'Deaths']]\n",
    "\n",
    "la_final.Deaths.fillna(0, inplace = True)\n",
    "la_final.Deaths = la_final.Deaths.astype('int64')\n",
    "la_final = la_final.drop(['index'], axis = 1)\n",
    "la_final = la_final[['State', 'County', 'Date', 'Cases', 'Deaths']]\n",
    "\n",
    "ms_final.Deaths.fillna(0, inplace = True)\n",
    "ms_final.Deaths = ms_final.Deaths.astype('int64')\n",
    "ms_final = ms_final.drop(['index'], axis = 1)\n",
    "ms_final = ms_final[['State', 'County', 'Date', 'Cases', 'Deaths']]\n",
    "\n",
    "sc_final.Deaths.fillna(0, inplace = True)\n",
    "sc_final.Deaths = sc_final.Deaths.astype('int64')\n",
    "sc_final = sc_final.drop(['index'], axis = 1)\n",
    "sc_final = sc_final[['State', 'County', 'Date', 'Cases', 'Deaths']]"
   ]
  },
  {
   "cell_type": "code",
   "execution_count": 27,
   "metadata": {},
   "outputs": [],
   "source": [
    "dss = pd.concat([al_final, ga_final, la_final, ms_final, sc_final])"
   ]
  },
  {
   "cell_type": "code",
   "execution_count": 28,
   "metadata": {},
   "outputs": [],
   "source": [
    "al_final.to_csv('al-clean.csv', index=False)\n",
    "ga_final.to_csv('ga-clean.csv', index=False)\n",
    "la_final.to_csv('la-clean.csv', index=False)\n",
    "ms_final.to_csv('ms-clean.csv', index=False)\n",
    "sc_final.to_csv('sc-clean.csv', index=False)\n",
    "dss.to_csv('dss-clean.csv', index=False)"
   ]
  }
 ],
 "metadata": {
  "kernelspec": {
   "display_name": "Python 3",
   "language": "python",
   "name": "python3"
  },
  "language_info": {
   "codemirror_mode": {
    "name": "ipython",
    "version": 3
   },
   "file_extension": ".py",
   "mimetype": "text/x-python",
   "name": "python",
   "nbconvert_exporter": "python",
   "pygments_lexer": "ipython3",
   "version": "3.7.4"
  }
 },
 "nbformat": 4,
 "nbformat_minor": 4
}
