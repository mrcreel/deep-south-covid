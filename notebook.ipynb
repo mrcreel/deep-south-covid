{
 "nbformat": 4,
 "nbformat_minor": 2,
 "metadata": {
  "language_info": {
   "name": "python",
   "codemirror_mode": {
    "name": "ipython",
    "version": 3
   },
   "version": "3.7.4-final"
  },
  "orig_nbformat": 2,
  "file_extension": ".py",
  "mimetype": "text/x-python",
  "name": "python",
  "npconvert_exporter": "python",
  "pygments_lexer": "ipython3",
  "version": 3,
  "kernelspec": {
   "name": "python37464bite39c404536e743e7834ebe80e4e1c14f",
   "display_name": "Python 3.7.4 64-bit"
  }
 },
 "cells": [
  {
   "cell_type": "code",
   "execution_count": 1,
   "metadata": {},
   "outputs": [],
   "source": [
    "import pandas as pd\n",
    "import io\n",
    "import requests"
   ]
  },
  {
   "cell_type": "code",
   "execution_count": 2,
   "metadata": {},
   "outputs": [],
   "source": [
    "url=\"https://raw.githubusercontent.com/CSSEGISandData/COVID-19/master/csse_covid_19_data/csse_covid_19_time_series/time_series_covid19_confirmed_US.csv\"\n",
    ""
   ]
  },
  {
   "cell_type": "code",
   "execution_count": 6,
   "metadata": {},
   "outputs": [],
   "source": [
    "# s=requests.get(url).content\n",
    "confirmed_raw=pd.DataFrame(pd.read_csv(io.StringIO(requests.get(url).content.decode('utf-8'))))"
   ]
  },
  {
   "cell_type": "code",
   "execution_count": 8,
   "metadata": {},
   "outputs": [
    {
     "output_type": "execute_result",
     "data": {
      "text/plain": "   UID iso2 iso3  code3  FIPS Admin2            Province_State Country_Region  \\\n0   16   AS  ASM     16  60.0    NaN            American Samoa             US   \n1  316   GU  GUM    316  66.0    NaN                      Guam             US   \n2  580   MP  MNP    580  69.0    NaN  Northern Mariana Islands             US   \n3  630   PR  PRI    630  72.0    NaN               Puerto Rico             US   \n4  850   VI  VIR    850  78.0    NaN            Virgin Islands             US   \n\n       Lat     Long_  ... 4/11/20  4/12/20  4/13/20  4/14/20  4/15/20  \\\n0 -14.2710 -170.1320  ...       0        0        0        0        0   \n1  13.4443  144.7937  ...     133      133      133      133      135   \n2  15.0979  145.6739  ...      11       11       11       11       13   \n3  18.2208  -66.5901  ...     788      897      903      923      974   \n4  18.3358  -64.8963  ...      51       51       51       51       51   \n\n   4/16/20  4/17/20  4/18/20  4/19/20  4/20/20  \n0        0        0        0        0        0  \n1      135      136      136      136      136  \n2       13       13       14       14       14  \n3     1043     1068     1118     1213     1252  \n4       51       51       53       53       53  \n\n[5 rows x 101 columns]",
      "text/html": "<div>\n<style scoped>\n    .dataframe tbody tr th:only-of-type {\n        vertical-align: middle;\n    }\n\n    .dataframe tbody tr th {\n        vertical-align: top;\n    }\n\n    .dataframe thead th {\n        text-align: right;\n    }\n</style>\n<table border=\"1\" class=\"dataframe\">\n  <thead>\n    <tr style=\"text-align: right;\">\n      <th></th>\n      <th>UID</th>\n      <th>iso2</th>\n      <th>iso3</th>\n      <th>code3</th>\n      <th>FIPS</th>\n      <th>Admin2</th>\n      <th>Province_State</th>\n      <th>Country_Region</th>\n      <th>Lat</th>\n      <th>Long_</th>\n      <th>...</th>\n      <th>4/11/20</th>\n      <th>4/12/20</th>\n      <th>4/13/20</th>\n      <th>4/14/20</th>\n      <th>4/15/20</th>\n      <th>4/16/20</th>\n      <th>4/17/20</th>\n      <th>4/18/20</th>\n      <th>4/19/20</th>\n      <th>4/20/20</th>\n    </tr>\n  </thead>\n  <tbody>\n    <tr>\n      <th>0</th>\n      <td>16</td>\n      <td>AS</td>\n      <td>ASM</td>\n      <td>16</td>\n      <td>60.0</td>\n      <td>NaN</td>\n      <td>American Samoa</td>\n      <td>US</td>\n      <td>-14.2710</td>\n      <td>-170.1320</td>\n      <td>...</td>\n      <td>0</td>\n      <td>0</td>\n      <td>0</td>\n      <td>0</td>\n      <td>0</td>\n      <td>0</td>\n      <td>0</td>\n      <td>0</td>\n      <td>0</td>\n      <td>0</td>\n    </tr>\n    <tr>\n      <th>1</th>\n      <td>316</td>\n      <td>GU</td>\n      <td>GUM</td>\n      <td>316</td>\n      <td>66.0</td>\n      <td>NaN</td>\n      <td>Guam</td>\n      <td>US</td>\n      <td>13.4443</td>\n      <td>144.7937</td>\n      <td>...</td>\n      <td>133</td>\n      <td>133</td>\n      <td>133</td>\n      <td>133</td>\n      <td>135</td>\n      <td>135</td>\n      <td>136</td>\n      <td>136</td>\n      <td>136</td>\n      <td>136</td>\n    </tr>\n    <tr>\n      <th>2</th>\n      <td>580</td>\n      <td>MP</td>\n      <td>MNP</td>\n      <td>580</td>\n      <td>69.0</td>\n      <td>NaN</td>\n      <td>Northern Mariana Islands</td>\n      <td>US</td>\n      <td>15.0979</td>\n      <td>145.6739</td>\n      <td>...</td>\n      <td>11</td>\n      <td>11</td>\n      <td>11</td>\n      <td>11</td>\n      <td>13</td>\n      <td>13</td>\n      <td>13</td>\n      <td>14</td>\n      <td>14</td>\n      <td>14</td>\n    </tr>\n    <tr>\n      <th>3</th>\n      <td>630</td>\n      <td>PR</td>\n      <td>PRI</td>\n      <td>630</td>\n      <td>72.0</td>\n      <td>NaN</td>\n      <td>Puerto Rico</td>\n      <td>US</td>\n      <td>18.2208</td>\n      <td>-66.5901</td>\n      <td>...</td>\n      <td>788</td>\n      <td>897</td>\n      <td>903</td>\n      <td>923</td>\n      <td>974</td>\n      <td>1043</td>\n      <td>1068</td>\n      <td>1118</td>\n      <td>1213</td>\n      <td>1252</td>\n    </tr>\n    <tr>\n      <th>4</th>\n      <td>850</td>\n      <td>VI</td>\n      <td>VIR</td>\n      <td>850</td>\n      <td>78.0</td>\n      <td>NaN</td>\n      <td>Virgin Islands</td>\n      <td>US</td>\n      <td>18.3358</td>\n      <td>-64.8963</td>\n      <td>...</td>\n      <td>51</td>\n      <td>51</td>\n      <td>51</td>\n      <td>51</td>\n      <td>51</td>\n      <td>51</td>\n      <td>51</td>\n      <td>53</td>\n      <td>53</td>\n      <td>53</td>\n    </tr>\n  </tbody>\n</table>\n<p>5 rows × 101 columns</p>\n</div>"
     },
     "metadata": {},
     "execution_count": 8
    }
   ],
   "source": [
    "confirmed_raw.head()"
   ]
  },
  {
   "cell_type": "code",
   "execution_count": 9,
   "metadata": {},
   "outputs": [
    {
     "output_type": "execute_result",
     "data": {
      "text/plain": "['UID',\n 'iso2',\n 'iso3',\n 'code3',\n 'FIPS',\n 'Admin2',\n 'Province_State',\n 'Country_Region',\n 'Lat',\n 'Long_',\n 'Combined_Key',\n '1/22/20',\n '1/23/20',\n '1/24/20',\n '1/25/20',\n '1/26/20',\n '1/27/20',\n '1/28/20',\n '1/29/20',\n '1/30/20',\n '1/31/20',\n '2/1/20',\n '2/2/20',\n '2/3/20',\n '2/4/20',\n '2/5/20',\n '2/6/20',\n '2/7/20',\n '2/8/20',\n '2/9/20',\n '2/10/20',\n '2/11/20',\n '2/12/20',\n '2/13/20',\n '2/14/20',\n '2/15/20',\n '2/16/20',\n '2/17/20',\n '2/18/20',\n '2/19/20',\n '2/20/20',\n '2/21/20',\n '2/22/20',\n '2/23/20',\n '2/24/20',\n '2/25/20',\n '2/26/20',\n '2/27/20',\n '2/28/20',\n '2/29/20',\n '3/1/20',\n '3/2/20',\n '3/3/20',\n '3/4/20',\n '3/5/20',\n '3/6/20',\n '3/7/20',\n '3/8/20',\n '3/9/20',\n '3/10/20',\n '3/11/20',\n '3/12/20',\n '3/13/20',\n '3/14/20',\n '3/15/20',\n '3/16/20',\n '3/17/20',\n '3/18/20',\n '3/19/20',\n '3/20/20',\n '3/21/20',\n '3/22/20',\n '3/23/20',\n '3/24/20',\n '3/25/20',\n '3/26/20',\n '3/27/20',\n '3/28/20',\n '3/29/20',\n '3/30/20',\n '3/31/20',\n '4/1/20',\n '4/2/20',\n '4/3/20',\n '4/4/20',\n '4/5/20',\n '4/6/20',\n '4/7/20',\n '4/8/20',\n '4/9/20',\n '4/10/20',\n '4/11/20',\n '4/12/20',\n '4/13/20',\n '4/14/20',\n '4/15/20',\n '4/16/20',\n '4/17/20',\n '4/18/20',\n '4/19/20',\n '4/20/20']"
     },
     "metadata": {},
     "execution_count": 9
    }
   ],
   "source": [
    "list(confirmed_raw)"
   ]
  },
  {
   "cell_type": "code",
   "execution_count": null,
   "metadata": {},
   "outputs": [],
   "source": [
    "states = ['Alabama', 'Georgia', 'Louisiana', 'Mississippi', 'South Carolina']\n",
    "states_2 = ['AL', 'GA', 'LA', 'MS', 'SC']"
   ]
  }
 ]
}